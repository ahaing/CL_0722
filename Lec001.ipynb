{
 "cells": [
  {
   "cell_type": "markdown",
   "metadata": {},
   "source": [
    "從python 官網函示庫裡面找 找到 package, \n",
    "發現 package (Lib) 裡面有 module (urllib) 裡面有 function (request)\n",
    "原始碼：Lib/urllib/request.py\n",
    " (.py檔就等於有一個 module，module 裡面有一個 requst 的 function)\n",
    "=> urllib是一個資料夾 (package)\n",
    "\n",
    "# 打開 url，其值可以是一個包含有效且適當編碼 URL 的字串或是一個 Request 物件。\n",
    "\n",
    "urllib.request.urlopen(url, data=None, [timeout, ]*, cafile=None, capath=None, cadefault=False, context=None)\n",
    "data=None \n",
    "=> #2 參數，是一個 default 值；代表至少要傳 #1 (url) 參數\n",
    "\n",
    "\n",
    "\n",
    " # module: urllib\n",
    " class "
   ]
  },
  {
   "cell_type": "markdown",
   "metadata": {},
   "source": [
    "#用ipynb可以單獨執行程式區塊"
   ]
  },
  {
   "cell_type": "code",
   "execution_count": 2,
   "metadata": {},
   "outputs": [
    {
     "ename": "SyntaxError",
     "evalue": "invalid syntax (3883460600.py, line 12)",
     "output_type": "error",
     "traceback": [
      "\u001b[1;36m  Cell \u001b[1;32mIn[2], line 12\u001b[1;36m\u001b[0m\n\u001b[1;33m    request=\u001b[0m\n\u001b[1;37m             ^\u001b[0m\n\u001b[1;31mSyntaxError\u001b[0m\u001b[1;31m:\u001b[0m invalid syntax\n"
     ]
    }
   ],
   "source": [
    "#Lecture001\n",
    "import urllib\n",
    "# url裡面如果有空格，則會報錯\n",
    "# google 找到 urllib.parse\n",
    "\n",
    "from urllib import request\n",
    "from urllib import parse\n",
    "\n",
    "\n",
    "url='https://data.kcg.gov.tw/dataset/112realpricedata20'\n",
    "encode_urll = parse.quote(url) #先編碼\n",
    "request= \n",
    "#################################\n",
    "\n"
   ]
  },
  {
   "cell_type": "code",
   "execution_count": null,
   "metadata": {},
   "outputs": [],
   "source": [
    "#換一種寫法:\n",
    "from url.request import urlopen\n",
    "from urllib.parse import quote\n",
    "# package (urllib) 裡面 import module (parse) 裡面的 方法 (quote)\n",
    "\n",
    "## from 只能使用 package or module\n",
    "## import 沒有限制後面使用甚麼 \n",
    "## if import function (function 後面是有待括號的)"
   ]
  },
  {
   "cell_type": "code",
   "execution_count": null,
   "metadata": {},
   "outputs": [],
   "source": [
    "import urllib\n",
    "urllib.reequest.urlopen()"
   ]
  }
 ],
 "metadata": {
  "kernelspec": {
   "display_name": "Python 3",
   "language": "python",
   "name": "python3"
  },
  "language_info": {
   "codemirror_mode": {
    "name": "ipython",
    "version": 3
   },
   "file_extension": ".py",
   "mimetype": "text/x-python",
   "name": "python",
   "nbconvert_exporter": "python",
   "pygments_lexer": "ipython3",
   "version": "3.11.3"
  },
  "orig_nbformat": 4
 },
 "nbformat": 4,
 "nbformat_minor": 2
}
